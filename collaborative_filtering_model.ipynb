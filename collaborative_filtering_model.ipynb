{
 "cells": [
  {
   "cell_type": "markdown",
   "metadata": {},
   "source": [
    "# Load data"
   ]
  },
  {
   "cell_type": "code",
   "execution_count": 4,
   "metadata": {},
   "outputs": [
    {
     "name": "stdout",
     "output_type": "stream",
     "text": [
      "<class 'pandas.core.frame.DataFrame'>\n",
      "RangeIndex: 200000 entries, 0 to 199999\n",
      "Data columns (total 4 columns):\n",
      " #   Column         Non-Null Count   Dtype  \n",
      "---  ------         --------------   -----  \n",
      " 0   user           200000 non-null  int64  \n",
      " 1   game           200000 non-null  object \n",
      " 2   purchase_play  200000 non-null  object \n",
      " 3   hrs            200000 non-null  float64\n",
      "dtypes: float64(1), int64(1), object(2)\n",
      "memory usage: 6.1+ MB\n"
     ]
    },
    {
     "data": {
      "text/html": [
       "<div>\n",
       "<style scoped>\n",
       "    .dataframe tbody tr th:only-of-type {\n",
       "        vertical-align: middle;\n",
       "    }\n",
       "\n",
       "    .dataframe tbody tr th {\n",
       "        vertical-align: top;\n",
       "    }\n",
       "\n",
       "    .dataframe thead th {\n",
       "        text-align: right;\n",
       "    }\n",
       "</style>\n",
       "<table border=\"1\" class=\"dataframe\">\n",
       "  <thead>\n",
       "    <tr style=\"text-align: right;\">\n",
       "      <th></th>\n",
       "      <th>user</th>\n",
       "      <th>game</th>\n",
       "      <th>purchase_play</th>\n",
       "      <th>hrs</th>\n",
       "    </tr>\n",
       "  </thead>\n",
       "  <tbody>\n",
       "    <tr>\n",
       "      <th>0</th>\n",
       "      <td>151603712</td>\n",
       "      <td>The Elder Scrolls V Skyrim</td>\n",
       "      <td>purchase</td>\n",
       "      <td>1.0</td>\n",
       "    </tr>\n",
       "    <tr>\n",
       "      <th>1</th>\n",
       "      <td>151603712</td>\n",
       "      <td>The Elder Scrolls V Skyrim</td>\n",
       "      <td>play</td>\n",
       "      <td>273.0</td>\n",
       "    </tr>\n",
       "    <tr>\n",
       "      <th>2</th>\n",
       "      <td>151603712</td>\n",
       "      <td>Fallout 4</td>\n",
       "      <td>purchase</td>\n",
       "      <td>1.0</td>\n",
       "    </tr>\n",
       "    <tr>\n",
       "      <th>3</th>\n",
       "      <td>151603712</td>\n",
       "      <td>Fallout 4</td>\n",
       "      <td>play</td>\n",
       "      <td>87.0</td>\n",
       "    </tr>\n",
       "    <tr>\n",
       "      <th>4</th>\n",
       "      <td>151603712</td>\n",
       "      <td>Spore</td>\n",
       "      <td>purchase</td>\n",
       "      <td>1.0</td>\n",
       "    </tr>\n",
       "  </tbody>\n",
       "</table>\n",
       "</div>"
      ],
      "text/plain": [
       "        user                        game purchase_play    hrs\n",
       "0  151603712  The Elder Scrolls V Skyrim      purchase    1.0\n",
       "1  151603712  The Elder Scrolls V Skyrim          play  273.0\n",
       "2  151603712                   Fallout 4      purchase    1.0\n",
       "3  151603712                   Fallout 4          play   87.0\n",
       "4  151603712                       Spore      purchase    1.0"
      ]
     },
     "execution_count": 4,
     "metadata": {},
     "output_type": "execute_result"
    }
   ],
   "source": [
    "steam = pd.read_csv('data/steam-200k.csv', header=None, names=['user', 'game', 'purchase_play', 'hrs', 'tmp'])\n",
    "steam.drop('tmp', inplace=True, axis=1)\n",
    "\n",
    "steam.info()\n",
    "steam.head()"
   ]
  },
  {
   "cell_type": "markdown",
   "metadata": {},
   "source": [
    "# Format data"
   ]
  },
  {
   "cell_type": "code",
   "execution_count": 5,
   "metadata": {},
   "outputs": [
    {
     "name": "stdout",
     "output_type": "stream",
     "text": [
      "<class 'pandas.core.frame.DataFrame'>\n",
      "RangeIndex: 128804 entries, 0 to 128803\n",
      "Data columns (total 5 columns):\n",
      " #   Column    Non-Null Count   Dtype  \n",
      "---  ------    --------------   -----  \n",
      " 0   user      128804 non-null  int64  \n",
      " 1   game      128804 non-null  object \n",
      " 2   hrs       128804 non-null  float64\n",
      " 3   purchase  128804 non-null  int32  \n",
      " 4   play      128804 non-null  int32  \n",
      "dtypes: float64(1), int32(2), int64(1), object(1)\n",
      "memory usage: 3.9+ MB\n"
     ]
    },
    {
     "data": {
      "text/html": [
       "<div>\n",
       "<style scoped>\n",
       "    .dataframe tbody tr th:only-of-type {\n",
       "        vertical-align: middle;\n",
       "    }\n",
       "\n",
       "    .dataframe tbody tr th {\n",
       "        vertical-align: top;\n",
       "    }\n",
       "\n",
       "    .dataframe thead th {\n",
       "        text-align: right;\n",
       "    }\n",
       "</style>\n",
       "<table border=\"1\" class=\"dataframe\">\n",
       "  <thead>\n",
       "    <tr style=\"text-align: right;\">\n",
       "      <th></th>\n",
       "      <th>user</th>\n",
       "      <th>game</th>\n",
       "      <th>hrs</th>\n",
       "      <th>purchase</th>\n",
       "      <th>play</th>\n",
       "    </tr>\n",
       "  </thead>\n",
       "  <tbody>\n",
       "    <tr>\n",
       "      <th>0</th>\n",
       "      <td>5250</td>\n",
       "      <td>Alien Swarm</td>\n",
       "      <td>4.9</td>\n",
       "      <td>1</td>\n",
       "      <td>1</td>\n",
       "    </tr>\n",
       "    <tr>\n",
       "      <th>1</th>\n",
       "      <td>5250</td>\n",
       "      <td>Cities Skylines</td>\n",
       "      <td>144.0</td>\n",
       "      <td>1</td>\n",
       "      <td>1</td>\n",
       "    </tr>\n",
       "    <tr>\n",
       "      <th>2</th>\n",
       "      <td>5250</td>\n",
       "      <td>Counter-Strike</td>\n",
       "      <td>0.0</td>\n",
       "      <td>1</td>\n",
       "      <td>0</td>\n",
       "    </tr>\n",
       "    <tr>\n",
       "      <th>3</th>\n",
       "      <td>5250</td>\n",
       "      <td>Counter-Strike Source</td>\n",
       "      <td>0.0</td>\n",
       "      <td>1</td>\n",
       "      <td>0</td>\n",
       "    </tr>\n",
       "    <tr>\n",
       "      <th>4</th>\n",
       "      <td>5250</td>\n",
       "      <td>Day of Defeat</td>\n",
       "      <td>0.0</td>\n",
       "      <td>1</td>\n",
       "      <td>0</td>\n",
       "    </tr>\n",
       "  </tbody>\n",
       "</table>\n",
       "</div>"
      ],
      "text/plain": [
       "   user                   game    hrs  purchase  play\n",
       "0  5250            Alien Swarm    4.9         1     1\n",
       "1  5250        Cities Skylines  144.0         1     1\n",
       "2  5250         Counter-Strike    0.0         1     0\n",
       "3  5250  Counter-Strike Source    0.0         1     0\n",
       "4  5250          Day of Defeat    0.0         1     0"
      ]
     },
     "execution_count": 5,
     "metadata": {},
     "output_type": "execute_result"
    }
   ],
   "source": [
    "steam_clean = steam.copy()\n",
    "steam_clean['purchase'] = steam_clean['purchase_play'] == 'purchase'\n",
    "steam_clean['purchase'] = steam_clean['purchase'].astype(int)\n",
    "steam_clean['play'] = steam_clean['purchase_play'] == 'play'\n",
    "steam_clean['play'] = steam_clean['play'].astype(int)\n",
    "steam_clean['hrs'] = steam_clean['hrs'] - steam_clean['purchase']\n",
    "steam_clean = steam_clean.groupby(by=['user', 'game']).agg({'hrs': 'sum', 'purchase': 'sum', 'play': 'sum'}).reset_index()\n",
    "\n",
    "steam_clean.info()\n",
    "steam_clean.head()"
   ]
  },
  {
   "cell_type": "code",
   "execution_count": 6,
   "metadata": {},
   "outputs": [
    {
     "name": "stdout",
     "output_type": "stream",
     "text": [
      "user        0\n",
      "game        0\n",
      "hrs         0\n",
      "purchase    0\n",
      "play        0\n",
      "dtype: int64\n"
     ]
    }
   ],
   "source": [
    "# Kiểm tra giá trị thiếu trong mỗi cột\n",
    "missing_values = steam_clean.isna().sum()\n",
    "\n",
    "# Hiển thị kết quả\n",
    "print(missing_values)"
   ]
  },
  {
   "cell_type": "markdown",
   "metadata": {},
   "source": [
    "# Lọc data"
   ]
  },
  {
   "cell_type": "markdown",
   "metadata": {},
   "source": [
    "Steam cho phép người dùng hoàn tiền cho những trò chơi họ đã chơi dưới 2 giờ. Chúng tôi quyết định xem xét thực tế này cho hệ thống gợi ý của mình. Do đó, các tương tác giữa người dùng và mục có thời gian dưới 2 giờ sẽ không được xem xét."
   ]
  },
  {
   "cell_type": "code",
   "execution_count": 7,
   "metadata": {},
   "outputs": [
    {
     "name": "stdout",
     "output_type": "stream",
     "text": [
      "<class 'pandas.core.frame.DataFrame'>\n",
      "Index: 44925 entries, 0 to 128799\n",
      "Data columns (total 3 columns):\n",
      " #   Column  Non-Null Count  Dtype  \n",
      "---  ------  --------------  -----  \n",
      " 0   user    44925 non-null  int64  \n",
      " 1   game    44925 non-null  object \n",
      " 2   hrs     44925 non-null  float64\n",
      "dtypes: float64(1), int64(1), object(1)\n",
      "memory usage: 1.4+ MB\n"
     ]
    },
    {
     "data": {
      "text/html": [
       "<div>\n",
       "<style scoped>\n",
       "    .dataframe tbody tr th:only-of-type {\n",
       "        vertical-align: middle;\n",
       "    }\n",
       "\n",
       "    .dataframe tbody tr th {\n",
       "        vertical-align: top;\n",
       "    }\n",
       "\n",
       "    .dataframe thead th {\n",
       "        text-align: right;\n",
       "    }\n",
       "</style>\n",
       "<table border=\"1\" class=\"dataframe\">\n",
       "  <thead>\n",
       "    <tr style=\"text-align: right;\">\n",
       "      <th></th>\n",
       "      <th>user</th>\n",
       "      <th>game</th>\n",
       "      <th>hrs</th>\n",
       "    </tr>\n",
       "  </thead>\n",
       "  <tbody>\n",
       "    <tr>\n",
       "      <th>0</th>\n",
       "      <td>5250</td>\n",
       "      <td>Alien Swarm</td>\n",
       "      <td>4.9</td>\n",
       "    </tr>\n",
       "    <tr>\n",
       "      <th>1</th>\n",
       "      <td>5250</td>\n",
       "      <td>Cities Skylines</td>\n",
       "      <td>144.0</td>\n",
       "    </tr>\n",
       "    <tr>\n",
       "      <th>6</th>\n",
       "      <td>5250</td>\n",
       "      <td>Deus Ex Human Revolution</td>\n",
       "      <td>62.0</td>\n",
       "    </tr>\n",
       "    <tr>\n",
       "      <th>17</th>\n",
       "      <td>5250</td>\n",
       "      <td>Portal 2</td>\n",
       "      <td>13.6</td>\n",
       "    </tr>\n",
       "    <tr>\n",
       "      <th>21</th>\n",
       "      <td>76767</td>\n",
       "      <td>Age of Empires II HD Edition</td>\n",
       "      <td>13.1</td>\n",
       "    </tr>\n",
       "  </tbody>\n",
       "</table>\n",
       "</div>"
      ],
      "text/plain": [
       "     user                          game    hrs\n",
       "0    5250                   Alien Swarm    4.9\n",
       "1    5250               Cities Skylines  144.0\n",
       "6    5250      Deus Ex Human Revolution   62.0\n",
       "17   5250                      Portal 2   13.6\n",
       "21  76767  Age of Empires II HD Edition   13.1"
      ]
     },
     "execution_count": 7,
     "metadata": {},
     "output_type": "execute_result"
    }
   ],
   "source": [
    "steam_play = steam_clean[(steam_clean['play'] == 1) & (steam_clean['hrs'] > 2.0)][['user', 'game', 'hrs']]\n",
    "\n",
    "steam_play.info()\n",
    "steam_play.head()\n",
    "#steam_play.to_csv('data/raw_data/steam_users_play.csv',index=None)"
   ]
  },
  {
   "cell_type": "markdown",
   "metadata": {},
   "source": [
    "## Lọc ra những trò chơi có ít nhất 200 người chơi"
   ]
  },
  {
   "cell_type": "code",
   "execution_count": 9,
   "metadata": {},
   "outputs": [
    {
     "name": "stdout",
     "output_type": "stream",
     "text": [
      "            user                          game    hrs\n",
      "0           5250                   Alien Swarm    4.9\n",
      "1           5250               Cities Skylines  144.0\n",
      "2           5250      Deus Ex Human Revolution   62.0\n",
      "3           5250                      Portal 2   13.6\n",
      "4          76767  Age of Empires II HD Edition   13.1\n",
      "...          ...                           ...    ...\n",
      "28454  309213952                        Dota 2   13.8\n",
      "28455  309216884                        Dota 2    4.0\n",
      "28456  309404240               Team Fortress 2    2.2\n",
      "28457  309404240                      Unturned   13.0\n",
      "28458  309626088  Age of Empires II HD Edition    6.7\n",
      "\n",
      "[28459 rows x 3 columns]\n",
      "182\n"
     ]
    }
   ],
   "source": [
    "# Lọc ra những trò chơi có ít nhất 50 người chơi\n",
    "games_with_50_users_or_more = steam_play['game'].value_counts()[steam_play['game'].value_counts() >= 50].index\n",
    "\n",
    "# Lọc dữ liệu cho những trò chơi đó\n",
    "stream_filtered = steam_play[steam_play['game'].isin(games_with_50_users_or_more)].reset_index(drop=True)\n",
    "\n",
    "# Hiển thị kết quả\n",
    "print(stream_filtered)\n",
    "print(stream_filtered['game'].nunique())"
   ]
  },
  {
   "cell_type": "markdown",
   "metadata": {},
   "source": [
    "# Gán nhãn"
   ]
  },
  {
   "cell_type": "markdown",
   "metadata": {},
   "source": [
    "Chúng tôi tạo hệ thống xếp hạng dựa trên sự phân bổ số giờ chơi, hệ thống này cho mỗi trò chơi có sẵn trong tập dữ liệu người dùng. Chúng tôi sử dụng 5 nhóm (tương đương với hệ thống xếp hạng 5 sao) để xác định xếp hạng mà người dùng sẽ đưa ra cho trò chơi họ đã chơi dựa trên số giờ mỗi người chơi mỗi trò chơi so với số giờ của những người khác."
   ]
  },
  {
   "cell_type": "code",
   "execution_count": 10,
   "metadata": {},
   "outputs": [],
   "source": [
    "def range_5_stars(data, column_name):\n",
    "    bins = [2.0, 4.0, 8.0, 12.0, 24.0, float('inf')]\n",
    "    labels = [1.0, 2.0, 3.0, 4.0, 5.0]\n",
    "    data[column_name + \"_range\"] = pd.cut(data[column_name], bins=bins, labels=labels).astype('float64')\n",
    "    return data"
   ]
  },
  {
   "cell_type": "code",
   "execution_count": 11,
   "metadata": {},
   "outputs": [
    {
     "name": "stderr",
     "output_type": "stream",
     "text": [
      "C:\\Users\\Hl10a\\AppData\\Local\\Temp\\ipykernel_772\\1746775476.py:10: FutureWarning: \n",
      "\n",
      "Passing `palette` without assigning `hue` is deprecated and will be removed in v0.14.0. Assign the `x` variable to `hue` and set `legend=False` for the same effect.\n",
      "\n"
     ]
    },
    {
     "data": {
      "image/png": "[encoded data removed]",
      "text/plain": [
       "<Figure size 720x432 with 1 Axes>"
      ]
     },
     "metadata": {
      "needs_background": "light"
     },
     "output_type": "display_data"
    },
    {
     "name": "stdout",
     "output_type": "stream",
     "text": [
      "<class 'pandas.core.frame.DataFrame'>\n",
      "RangeIndex: 28459 entries, 0 to 28458\n",
      "Data columns (total 4 columns):\n",
      " #   Column     Non-Null Count  Dtype  \n",
      "---  ------     --------------  -----  \n",
      " 0   user       28459 non-null  int64  \n",
      " 1   game       28459 non-null  object \n",
      " 2   hrs        28459 non-null  float64\n",
      " 3   hrs_range  28459 non-null  float64\n",
      "dtypes: float64(2), int64(1), object(1)\n",
      "memory usage: 889.5+ KB\n"
     ]
    },
    {
     "data": {
      "text/html": [
       "<div>\n",
       "<style scoped>\n",
       "    .dataframe tbody tr th:only-of-type {\n",
       "        vertical-align: middle;\n",
       "    }\n",
       "\n",
       "    .dataframe tbody tr th {\n",
       "        vertical-align: top;\n",
       "    }\n",
       "\n",
       "    .dataframe thead th {\n",
       "        text-align: right;\n",
       "    }\n",
       "</style>\n",
       "<table border=\"1\" class=\"dataframe\">\n",
       "  <thead>\n",
       "    <tr style=\"text-align: right;\">\n",
       "      <th></th>\n",
       "      <th>user</th>\n",
       "      <th>game</th>\n",
       "      <th>hrs</th>\n",
       "      <th>hrs_range</th>\n",
       "    </tr>\n",
       "  </thead>\n",
       "  <tbody>\n",
       "    <tr>\n",
       "      <th>0</th>\n",
       "      <td>5250</td>\n",
       "      <td>Alien Swarm</td>\n",
       "      <td>4.9</td>\n",
       "      <td>2.0</td>\n",
       "    </tr>\n",
       "    <tr>\n",
       "      <th>1</th>\n",
       "      <td>5250</td>\n",
       "      <td>Cities Skylines</td>\n",
       "      <td>144.0</td>\n",
       "      <td>5.0</td>\n",
       "    </tr>\n",
       "    <tr>\n",
       "      <th>2</th>\n",
       "      <td>5250</td>\n",
       "      <td>Deus Ex Human Revolution</td>\n",
       "      <td>62.0</td>\n",
       "      <td>5.0</td>\n",
       "    </tr>\n",
       "    <tr>\n",
       "      <th>3</th>\n",
       "      <td>5250</td>\n",
       "      <td>Portal 2</td>\n",
       "      <td>13.6</td>\n",
       "      <td>4.0</td>\n",
       "    </tr>\n",
       "    <tr>\n",
       "      <th>4</th>\n",
       "      <td>76767</td>\n",
       "      <td>Age of Empires II HD Edition</td>\n",
       "      <td>13.1</td>\n",
       "      <td>4.0</td>\n",
       "    </tr>\n",
       "  </tbody>\n",
       "</table>\n",
       "</div>"
      ],
      "text/plain": [
       "    user                          game    hrs  hrs_range\n",
       "0   5250                   Alien Swarm    4.9        2.0\n",
       "1   5250               Cities Skylines  144.0        5.0\n",
       "2   5250      Deus Ex Human Revolution   62.0        5.0\n",
       "3   5250                      Portal 2   13.6        4.0\n",
       "4  76767  Age of Empires II HD Edition   13.1        4.0"
      ]
     },
     "execution_count": 11,
     "metadata": {},
     "output_type": "execute_result"
    }
   ],
   "source": [
    "steam_hrs = stream_filtered.copy()\n",
    "\n",
    "# Chia số giờ chơi thành các khoảng\n",
    "steam_hrs = range_5_stars(steam_hrs, \"hrs\")\n",
    "\n",
    "# Đếm số lượng trong từng khoảng giờ\n",
    "hour_counts = steam_hrs['hrs_range'].value_counts()\n",
    "# Vẽ biểu đồ\n",
    "plt.figure(figsize=(10, 6))\n",
    "sns.barplot(x=hour_counts.index, y=hour_counts.values, palette=\"viridis\")\n",
    "plt.title(\"Số lượng trong từng khoảng giờ\")\n",
    "plt.xlabel(\"Khoảng giờ\")\n",
    "plt.ylabel(\"Số lượng\")\n",
    "plt.show()\n",
    "\n",
    "steam_hrs.info()\n",
    "steam_hrs.head()"
   ]
  },
  {
   "cell_type": "code",
   "execution_count": 12,
   "metadata": {},
   "outputs": [
    {
     "data": {
      "text/html": [
       "<div>\n",
       "<style scoped>\n",
       "    .dataframe tbody tr th:only-of-type {\n",
       "        vertical-align: middle;\n",
       "    }\n",
       "\n",
       "    .dataframe tbody tr th {\n",
       "        vertical-align: top;\n",
       "    }\n",
       "\n",
       "    .dataframe thead th {\n",
       "        text-align: right;\n",
       "    }\n",
       "</style>\n",
       "<table border=\"1\" class=\"dataframe\">\n",
       "  <thead>\n",
       "    <tr style=\"text-align: right;\">\n",
       "      <th></th>\n",
       "      <th>user</th>\n",
       "      <th>game</th>\n",
       "      <th>hrs</th>\n",
       "      <th>hrs_range</th>\n",
       "      <th>game_id</th>\n",
       "    </tr>\n",
       "  </thead>\n",
       "  <tbody>\n",
       "    <tr>\n",
       "      <th>0</th>\n",
       "      <td>5250</td>\n",
       "      <td>Alien Swarm</td>\n",
       "      <td>4.9</td>\n",
       "      <td>2.0</td>\n",
       "      <td>7</td>\n",
       "    </tr>\n",
       "    <tr>\n",
       "      <th>1</th>\n",
       "      <td>975449</td>\n",
       "      <td>Alien Swarm</td>\n",
       "      <td>9.8</td>\n",
       "      <td>3.0</td>\n",
       "      <td>7</td>\n",
       "    </tr>\n",
       "    <tr>\n",
       "      <th>2</th>\n",
       "      <td>1950243</td>\n",
       "      <td>Alien Swarm</td>\n",
       "      <td>3.8</td>\n",
       "      <td>1.0</td>\n",
       "      <td>7</td>\n",
       "    </tr>\n",
       "    <tr>\n",
       "      <th>3</th>\n",
       "      <td>2259650</td>\n",
       "      <td>Alien Swarm</td>\n",
       "      <td>3.2</td>\n",
       "      <td>1.0</td>\n",
       "      <td>7</td>\n",
       "    </tr>\n",
       "    <tr>\n",
       "      <th>4</th>\n",
       "      <td>2753525</td>\n",
       "      <td>Alien Swarm</td>\n",
       "      <td>3.2</td>\n",
       "      <td>1.0</td>\n",
       "      <td>7</td>\n",
       "    </tr>\n",
       "  </tbody>\n",
       "</table>\n",
       "</div>"
      ],
      "text/plain": [
       "      user         game  hrs  hrs_range  game_id\n",
       "0     5250  Alien Swarm  4.9        2.0        7\n",
       "1   975449  Alien Swarm  9.8        3.0        7\n",
       "2  1950243  Alien Swarm  3.8        1.0        7\n",
       "3  2259650  Alien Swarm  3.2        1.0        7\n",
       "4  2753525  Alien Swarm  3.2        1.0        7"
      ]
     },
     "execution_count": 12,
     "metadata": {},
     "output_type": "execute_result"
    }
   ],
   "source": [
    "games = pd.DataFrame({'game': np.sort(steam_hrs['game'].unique())})\n",
    "# Gộp thông tin người chơi và trò chơi vào dataframe chính\n",
    "steam_game_id = pd.merge(steam_hrs, games, on='game')\n",
    "steam_game_id.head()"
   ]
  },
  {
   "cell_type": "code",
   "execution_count": 13,
   "metadata": {},
   "outputs": [
    {
     "data": {
      "text/html": [
       "<div>\n",
       "<style scoped>\n",
       "    .dataframe tbody tr th:only-of-type {\n",
       "        vertical-align: middle;\n",
       "    }\n",
       "\n",
       "    .dataframe tbody tr th {\n",
       "        vertical-align: top;\n",
       "    }\n",
       "\n",
       "    .dataframe thead th {\n",
       "        text-align: right;\n",
       "    }\n",
       "</style>\n",
       "<table border=\"1\" class=\"dataframe\">\n",
       "  <thead>\n",
       "    <tr style=\"text-align: right;\">\n",
       "      <th></th>\n",
       "      <th>game</th>\n",
       "      <th>game_id</th>\n",
       "    </tr>\n",
       "  </thead>\n",
       "  <tbody>\n",
       "    <tr>\n",
       "      <th>0</th>\n",
       "      <td>Alien Swarm</td>\n",
       "      <td>7</td>\n",
       "    </tr>\n",
       "    <tr>\n",
       "      <th>150</th>\n",
       "      <td>Cities Skylines</td>\n",
       "      <td>43</td>\n",
       "    </tr>\n",
       "    <tr>\n",
       "      <th>249</th>\n",
       "      <td>Deus Ex Human Revolution</td>\n",
       "      <td>62</td>\n",
       "    </tr>\n",
       "    <tr>\n",
       "      <th>351</th>\n",
       "      <td>Portal 2</td>\n",
       "      <td>130</td>\n",
       "    </tr>\n",
       "    <tr>\n",
       "      <th>738</th>\n",
       "      <td>Age of Empires II HD Edition</td>\n",
       "      <td>4</td>\n",
       "    </tr>\n",
       "    <tr>\n",
       "      <th>...</th>\n",
       "      <td>...</td>\n",
       "      <td>...</td>\n",
       "    </tr>\n",
       "    <tr>\n",
       "      <th>28097</th>\n",
       "      <td>Trove</td>\n",
       "      <td>174</td>\n",
       "    </tr>\n",
       "    <tr>\n",
       "      <th>28224</th>\n",
       "      <td>The Mighty Quest For Epic Loot</td>\n",
       "      <td>160</td>\n",
       "    </tr>\n",
       "    <tr>\n",
       "      <th>28275</th>\n",
       "      <td>Just Cause 2 Multiplayer Mod</td>\n",
       "      <td>99</td>\n",
       "    </tr>\n",
       "    <tr>\n",
       "      <th>28328</th>\n",
       "      <td>Warface</td>\n",
       "      <td>177</td>\n",
       "    </tr>\n",
       "    <tr>\n",
       "      <th>28408</th>\n",
       "      <td>BLOCKADE 3D</td>\n",
       "      <td>15</td>\n",
       "    </tr>\n",
       "  </tbody>\n",
       "</table>\n",
       "<p>182 rows × 2 columns</p>\n",
       "</div>"
      ],
      "text/plain": [
       "                                 game  game_id\n",
       "0                         Alien Swarm        7\n",
       "150                   Cities Skylines       43\n",
       "249          Deus Ex Human Revolution       62\n",
       "351                          Portal 2      130\n",
       "738      Age of Empires II HD Edition        4\n",
       "...                               ...      ...\n",
       "28097                           Trove      174\n",
       "28224  The Mighty Quest For Epic Loot      160\n",
       "28275    Just Cause 2 Multiplayer Mod       99\n",
       "28328                         Warface      177\n",
       "28408                     BLOCKADE 3D       15\n",
       "\n",
       "[182 rows x 2 columns]"
      ]
     },
     "execution_count": 13,
     "metadata": {},
     "output_type": "execute_result"
    }
   ],
   "source": [
    "unique_games = steam_game_id.drop_duplicates(subset='game_id')[['game', 'game_id']]\n",
    "unique_games"
   ]
  },
  {
   "cell_type": "code",
   "execution_count": 14,
   "metadata": {},
   "outputs": [],
   "source": [
    "\n",
    "# Tạo ma trận user-game\n",
    "user_game_matrix = steam_hrs.pivot_table(index='user', columns='game_id', values='hrs_range', fill_value=0)\n",
    "\n",
    "# Tính độ tương đồng game-game\n",
    "game_similarity_matrix = cosine_similarity(user_game_matrix.T)"
   ]
  },
  {
   "cell_type": "code",
   "execution_count": 17,
   "metadata": {},
   "outputs": [],
   "source": [
    "def recommend_item_item(user_game_matrix, user_id):\n",
    "    user_games = user_game_matrix.loc[user_id]  # Số giờ chơi của người dùng đang xem xét\n",
    "    # Chuyển ma trận tương đồng thành DataFrame để dễ quan sát\n",
    "    game_similarity_df = pd.DataFrame(game_similarity_matrix, index=user_game_matrix.columns, columns=user_game_matrix.columns)\n",
    "\n",
    "    # Tính toán dự đoán số giờ chơi cho các trò chơi người dùng chưa chơi\n",
    "    predicted_hours = user_games[user_games == 0]  # Chọn những trò chơi người dùng chưa chơi\n",
    "    rating_user = user_games[user_games != 0]\n",
    "\n",
    "    for game_id_pre, hours_pre in predicted_hours.items():\n",
    "\n",
    "        numerator = 0\n",
    "        denominator = 0\n",
    "        for game_id, hours in rating_user.items():\n",
    "            numerator = numerator + game_similarity_df.loc[game_id_pre, game_id] * user_games[game_id]\n",
    "            denominator = denominator + abs(game_similarity_df.loc[game_id_pre, game_id])\n",
    "\n",
    "            \n",
    "        if denominator != 0:\n",
    "            predicted_hours[game_id_pre] = numerator / denominator  # Dự đoán số giờ chơi\n",
    "            \n",
    "    top_predicted_hours = predicted_hours.sort_values(ascending=False).head()\n",
    "\n",
    "    # Merging top_predicted_hours with steam_game_id based on the common column 'game_id'\n",
    "    result = pd.merge(top_predicted_hours, unique_games, how='inner', on='game_id')\n",
    "\n",
    "    return result"
   ]
  },
  {
   "cell_type": "code",
   "execution_count": 20,
   "metadata": {},
   "outputs": [
    {
     "name": "stdout",
     "output_type": "stream",
     "text": [
      "Những game đang có của user_id 76767:\n",
      "352                                        Portal 2\n",
      "738                    Age of Empires II HD Edition\n",
      "901                                        Banished\n",
      "968                          Call of Duty Black Ops\n",
      "1153           Call of Duty Black Ops - Multiplayer\n",
      "1314                  Call of Duty Modern Warfare 2\n",
      "1570    Call of Duty Modern Warfare 2 - Multiplayer\n",
      "1821                  Call of Duty Modern Warfare 3\n",
      "1997    Call of Duty Modern Warfare 3 - Multiplayer\n",
      "2159                      Call of Duty World at War\n",
      "2221                                 Counter-Strike\n",
      "2611                Counter-Strike Global Offensive\n",
      "3869                          Counter-Strike Source\n",
      "Name: game, dtype: object\n",
      "\n",
      "Những game được đề xuất cho user_id 76767:\n",
      "0    Counter-Strike Condition Zero\n",
      "1            Medieval II Total War\n",
      "2                      Left 4 Dead\n",
      "3           Half-Life 2 Deathmatch\n",
      "4          Half-Life 2 Episode One\n",
      "Name: game, dtype: object\n"
     ]
    }
   ],
   "source": [
    "user_id = 76767\n",
    "\n",
    "result = recommend_item_item(user_game_matrix, user_id)\n",
    "\n",
    "# Displaying the result\n",
    "print(f\"Những game đang có của user_id {user_id}:\")\n",
    "print(steam_game_id[steam_game_id[\"user\"]==user_id][\"game\"])\n",
    "\n",
    "print(f\"\\nNhững game được đề xuất cho user_id {user_id}:\")\n",
    "print(result[\"game\"])"
   ]
  },
  {
   "cell_type": "code",
   "execution_count": null,
   "metadata": {},
   "outputs": [],
   "source": []
  }
 ],
 "metadata": {
  "kernelspec": {
   "display_name": "Python 3",
   "language": "python",
   "name": "python3"
  },
  "language_info": {
   "codemirror_mode": {
    "name": "ipython",
    "version": 3
   },
   "file_extension": ".py",
   "mimetype": "text/x-python",
   "name": "python",
   "nbconvert_exporter": "python",
   "pygments_lexer": "ipython3",
   "version": "3.10.9"
  }
 },
 "nbformat": 4,
 "nbformat_minor": 2
}
